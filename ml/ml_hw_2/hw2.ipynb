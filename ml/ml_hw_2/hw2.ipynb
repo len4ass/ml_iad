{
 "cells": [
  {
   "cell_type": "markdown",
   "metadata": {
    "_uuid": "21c25e4f8bb31570029fd6b069131a5d00f84cf1"
   },
   "source": [
    "# Домашнее задание 2 (5 баллов).\n",
    "\n",
    "Все задания ниже имеют равный вес (5/16)."
   ]
  },
  {
   "cell_type": "code",
   "execution_count": 6,
   "metadata": {
    "_uuid": "568eb2d31004b87d22e119112ae01a1e75105f1d"
   },
   "outputs": [],
   "source": [
    "import pandas as pd"
   ]
  },
  {
   "cell_type": "markdown",
   "metadata": {},
   "source": [
    "#### Описание данных\n",
    "\n",
    "В папке Data находится информация о студентах. Всего 10 групп студентов. Файлы делятся на две категории:\n",
    "    * Students_info_i - информация о студентах из группы i\n",
    "    * Students_marks_i - оценки студентов из группы i за экзамены"
   ]
  },
  {
   "cell_type": "markdown",
   "metadata": {},
   "source": [
    "### Одно из важных достоинств pandas $-$ это удобные методы реляционного взаимодействия с данными, аналогичные, например, возможностям SQL для слияния и конкатенации таблиц: merge, join, concat. Наличие готовых методов позволяет не реализовывать самостоятельно поэлементную обработку данных и оперировать сразу целыми таблицами данных.\n",
    "\n",
    "Подробно об этих методах посмотрите тут: https://www.kaggle.com/residentmario/renaming-and-combining#Combining"
   ]
  },
  {
   "cell_type": "markdown",
   "metadata": {},
   "source": [
    "#### Задание 1. Соберите всю информацию о студентах в одну таблицу df. В получившейся таблице должна быть информация и оценки всех студентов из всех групп. Напечатайте несколько строк таблицы для демонстрации результата.¶"
   ]
  },
  {
   "cell_type": "code",
   "execution_count": 7,
   "metadata": {},
   "outputs": [
    {
     "data": {
      "text/plain": "    index  gender race/ethnicity parental level of education         lunch  \\\n0       0  female        group B           bachelor's degree      standard   \n1       1  female        group C                some college      standard   \n2       2  female        group B             master's degree      standard   \n3       3    male        group A          associate's degree  free/reduced   \n4       4    male        group C                some college      standard   \n5       5  female        group B          associate's degree      standard   \n6       6  female        group B                some college      standard   \n7       7    male        group B                some college  free/reduced   \n8       8    male        group D                 high school  free/reduced   \n9       9  female        group B                 high school  free/reduced   \n10     10    male        group C          associate's degree      standard   \n11     11    male        group D          associate's degree      standard   \n12     12  female        group B                 high school      standard   \n13     13    male        group A                some college      standard   \n14     14  female        group A             master's degree      standard   \n15     15  female        group C            some high school      standard   \n16     16    male        group C                 high school      standard   \n17     17  female        group B            some high school  free/reduced   \n18     18    male        group C             master's degree  free/reduced   \n19     19  female        group C          associate's degree  free/reduced   \n20     20    male        group D                 high school      standard   \n21     21  female        group B                some college  free/reduced   \n22     22    male        group D                some college      standard   \n23     23  female        group C            some high school      standard   \n24     24    male        group D           bachelor's degree  free/reduced   \n\n   test preparation course   group  math score  reading score  writing score  \n0                     none  group1          72             72             74  \n1                completed  group1          69             90             88  \n2                     none  group1          90             95             93  \n3                     none  group1          47             57             44  \n4                     none  group1          76             78             75  \n5                     none  group1          71             83             78  \n6                completed  group1          88             95             92  \n7                     none  group1          40             43             39  \n8                completed  group1          64             64             67  \n9                     none  group1          38             60             50  \n10                    none  group1          58             54             52  \n11                    none  group1          40             52             43  \n12                    none  group1          65             81             73  \n13               completed  group1          78             72             70  \n14                    none  group1          50             53             58  \n15                    none  group1          69             75             78  \n16                    none  group1          88             89             86  \n17                    none  group1          18             32             28  \n18               completed  group1          46             42             46  \n19                    none  group1          54             58             61  \n20                    none  group1          66             69             63  \n21               completed  group1          65             75             70  \n22                    none  group1          44             54             53  \n23                    none  group1          69             73             73  \n24               completed  group1          74             71             80  ",
      "text/html": "<div>\n<style scoped>\n    .dataframe tbody tr th:only-of-type {\n        vertical-align: middle;\n    }\n\n    .dataframe tbody tr th {\n        vertical-align: top;\n    }\n\n    .dataframe thead th {\n        text-align: right;\n    }\n</style>\n<table border=\"1\" class=\"dataframe\">\n  <thead>\n    <tr style=\"text-align: right;\">\n      <th></th>\n      <th>index</th>\n      <th>gender</th>\n      <th>race/ethnicity</th>\n      <th>parental level of education</th>\n      <th>lunch</th>\n      <th>test preparation course</th>\n      <th>group</th>\n      <th>math score</th>\n      <th>reading score</th>\n      <th>writing score</th>\n    </tr>\n  </thead>\n  <tbody>\n    <tr>\n      <th>0</th>\n      <td>0</td>\n      <td>female</td>\n      <td>group B</td>\n      <td>bachelor's degree</td>\n      <td>standard</td>\n      <td>none</td>\n      <td>group1</td>\n      <td>72</td>\n      <td>72</td>\n      <td>74</td>\n    </tr>\n    <tr>\n      <th>1</th>\n      <td>1</td>\n      <td>female</td>\n      <td>group C</td>\n      <td>some college</td>\n      <td>standard</td>\n      <td>completed</td>\n      <td>group1</td>\n      <td>69</td>\n      <td>90</td>\n      <td>88</td>\n    </tr>\n    <tr>\n      <th>2</th>\n      <td>2</td>\n      <td>female</td>\n      <td>group B</td>\n      <td>master's degree</td>\n      <td>standard</td>\n      <td>none</td>\n      <td>group1</td>\n      <td>90</td>\n      <td>95</td>\n      <td>93</td>\n    </tr>\n    <tr>\n      <th>3</th>\n      <td>3</td>\n      <td>male</td>\n      <td>group A</td>\n      <td>associate's degree</td>\n      <td>free/reduced</td>\n      <td>none</td>\n      <td>group1</td>\n      <td>47</td>\n      <td>57</td>\n      <td>44</td>\n    </tr>\n    <tr>\n      <th>4</th>\n      <td>4</td>\n      <td>male</td>\n      <td>group C</td>\n      <td>some college</td>\n      <td>standard</td>\n      <td>none</td>\n      <td>group1</td>\n      <td>76</td>\n      <td>78</td>\n      <td>75</td>\n    </tr>\n    <tr>\n      <th>5</th>\n      <td>5</td>\n      <td>female</td>\n      <td>group B</td>\n      <td>associate's degree</td>\n      <td>standard</td>\n      <td>none</td>\n      <td>group1</td>\n      <td>71</td>\n      <td>83</td>\n      <td>78</td>\n    </tr>\n    <tr>\n      <th>6</th>\n      <td>6</td>\n      <td>female</td>\n      <td>group B</td>\n      <td>some college</td>\n      <td>standard</td>\n      <td>completed</td>\n      <td>group1</td>\n      <td>88</td>\n      <td>95</td>\n      <td>92</td>\n    </tr>\n    <tr>\n      <th>7</th>\n      <td>7</td>\n      <td>male</td>\n      <td>group B</td>\n      <td>some college</td>\n      <td>free/reduced</td>\n      <td>none</td>\n      <td>group1</td>\n      <td>40</td>\n      <td>43</td>\n      <td>39</td>\n    </tr>\n    <tr>\n      <th>8</th>\n      <td>8</td>\n      <td>male</td>\n      <td>group D</td>\n      <td>high school</td>\n      <td>free/reduced</td>\n      <td>completed</td>\n      <td>group1</td>\n      <td>64</td>\n      <td>64</td>\n      <td>67</td>\n    </tr>\n    <tr>\n      <th>9</th>\n      <td>9</td>\n      <td>female</td>\n      <td>group B</td>\n      <td>high school</td>\n      <td>free/reduced</td>\n      <td>none</td>\n      <td>group1</td>\n      <td>38</td>\n      <td>60</td>\n      <td>50</td>\n    </tr>\n    <tr>\n      <th>10</th>\n      <td>10</td>\n      <td>male</td>\n      <td>group C</td>\n      <td>associate's degree</td>\n      <td>standard</td>\n      <td>none</td>\n      <td>group1</td>\n      <td>58</td>\n      <td>54</td>\n      <td>52</td>\n    </tr>\n    <tr>\n      <th>11</th>\n      <td>11</td>\n      <td>male</td>\n      <td>group D</td>\n      <td>associate's degree</td>\n      <td>standard</td>\n      <td>none</td>\n      <td>group1</td>\n      <td>40</td>\n      <td>52</td>\n      <td>43</td>\n    </tr>\n    <tr>\n      <th>12</th>\n      <td>12</td>\n      <td>female</td>\n      <td>group B</td>\n      <td>high school</td>\n      <td>standard</td>\n      <td>none</td>\n      <td>group1</td>\n      <td>65</td>\n      <td>81</td>\n      <td>73</td>\n    </tr>\n    <tr>\n      <th>13</th>\n      <td>13</td>\n      <td>male</td>\n      <td>group A</td>\n      <td>some college</td>\n      <td>standard</td>\n      <td>completed</td>\n      <td>group1</td>\n      <td>78</td>\n      <td>72</td>\n      <td>70</td>\n    </tr>\n    <tr>\n      <th>14</th>\n      <td>14</td>\n      <td>female</td>\n      <td>group A</td>\n      <td>master's degree</td>\n      <td>standard</td>\n      <td>none</td>\n      <td>group1</td>\n      <td>50</td>\n      <td>53</td>\n      <td>58</td>\n    </tr>\n    <tr>\n      <th>15</th>\n      <td>15</td>\n      <td>female</td>\n      <td>group C</td>\n      <td>some high school</td>\n      <td>standard</td>\n      <td>none</td>\n      <td>group1</td>\n      <td>69</td>\n      <td>75</td>\n      <td>78</td>\n    </tr>\n    <tr>\n      <th>16</th>\n      <td>16</td>\n      <td>male</td>\n      <td>group C</td>\n      <td>high school</td>\n      <td>standard</td>\n      <td>none</td>\n      <td>group1</td>\n      <td>88</td>\n      <td>89</td>\n      <td>86</td>\n    </tr>\n    <tr>\n      <th>17</th>\n      <td>17</td>\n      <td>female</td>\n      <td>group B</td>\n      <td>some high school</td>\n      <td>free/reduced</td>\n      <td>none</td>\n      <td>group1</td>\n      <td>18</td>\n      <td>32</td>\n      <td>28</td>\n    </tr>\n    <tr>\n      <th>18</th>\n      <td>18</td>\n      <td>male</td>\n      <td>group C</td>\n      <td>master's degree</td>\n      <td>free/reduced</td>\n      <td>completed</td>\n      <td>group1</td>\n      <td>46</td>\n      <td>42</td>\n      <td>46</td>\n    </tr>\n    <tr>\n      <th>19</th>\n      <td>19</td>\n      <td>female</td>\n      <td>group C</td>\n      <td>associate's degree</td>\n      <td>free/reduced</td>\n      <td>none</td>\n      <td>group1</td>\n      <td>54</td>\n      <td>58</td>\n      <td>61</td>\n    </tr>\n    <tr>\n      <th>20</th>\n      <td>20</td>\n      <td>male</td>\n      <td>group D</td>\n      <td>high school</td>\n      <td>standard</td>\n      <td>none</td>\n      <td>group1</td>\n      <td>66</td>\n      <td>69</td>\n      <td>63</td>\n    </tr>\n    <tr>\n      <th>21</th>\n      <td>21</td>\n      <td>female</td>\n      <td>group B</td>\n      <td>some college</td>\n      <td>free/reduced</td>\n      <td>completed</td>\n      <td>group1</td>\n      <td>65</td>\n      <td>75</td>\n      <td>70</td>\n    </tr>\n    <tr>\n      <th>22</th>\n      <td>22</td>\n      <td>male</td>\n      <td>group D</td>\n      <td>some college</td>\n      <td>standard</td>\n      <td>none</td>\n      <td>group1</td>\n      <td>44</td>\n      <td>54</td>\n      <td>53</td>\n    </tr>\n    <tr>\n      <th>23</th>\n      <td>23</td>\n      <td>female</td>\n      <td>group C</td>\n      <td>some high school</td>\n      <td>standard</td>\n      <td>none</td>\n      <td>group1</td>\n      <td>69</td>\n      <td>73</td>\n      <td>73</td>\n    </tr>\n    <tr>\n      <th>24</th>\n      <td>24</td>\n      <td>male</td>\n      <td>group D</td>\n      <td>bachelor's degree</td>\n      <td>free/reduced</td>\n      <td>completed</td>\n      <td>group1</td>\n      <td>74</td>\n      <td>71</td>\n      <td>80</td>\n    </tr>\n  </tbody>\n</table>\n</div>"
     },
     "execution_count": 7,
     "metadata": {},
     "output_type": "execute_result"
    }
   ],
   "source": [
    "import os\n",
    "import glob\n",
    "\n",
    "# Создаем строку с путем к папке, где лежат данные\n",
    "path: str = os.getcwd() + \"/Data\"\n",
    "\n",
    "# Собираем имена всех файлов формата .csv в список\n",
    "csv_files: list[str] = glob.glob(os.path.join(path, \"*.csv\"))\n",
    "\n",
    "# Теперь создадим два списка: в одном будут файлы с информацией о студентах в порядке групп 0-9\n",
    "# В другом будут файлы с информацией об оценках студента в порядке групп 0-9\n",
    "student_info_files: list[str] = sorted(list(filter(lambda path_name: path_name.find(\"Students_info\") != -1, csv_files)))\n",
    "student_marks_files: list[str] = sorted(list(filter(lambda path_name: path_name.find(\"Students_marks\") != -1, csv_files)))\n",
    "\n",
    "# Считываем с диска и объединяем таблицы разных групп: сначала с информацией, затем с оценками\n",
    "si = pd.concat([pd.read_csv(file) for file in student_info_files], ignore_index=True)\n",
    "sm = pd.concat([pd.read_csv(file) for file in student_marks_files], ignore_index=True)\n",
    "\n",
    "# Делаем merge этих таблиц, чтобы кроме информации о студенте у нас также были его оценки\n",
    "df = si.merge(sm)\n",
    "df.head(25)"
   ]
  },
  {
   "cell_type": "markdown",
   "metadata": {
    "_uuid": "8524af4cbd2f7b7810e8a3095a74c9fe1df7eafa"
   },
   "source": [
    "#### Задание 2. Удалите столбец index у полученной таблицы. Напечатайте первые 10 строк таблицы."
   ]
  },
  {
   "cell_type": "code",
   "execution_count": 8,
   "metadata": {
    "_uuid": "fe62eee87b9b94ab923f57b55eaf0554612aa9e9"
   },
   "outputs": [
    {
     "data": {
      "text/plain": "   gender race/ethnicity parental level of education         lunch  \\\n0  female        group B           bachelor's degree      standard   \n1  female        group C                some college      standard   \n2  female        group B             master's degree      standard   \n3    male        group A          associate's degree  free/reduced   \n4    male        group C                some college      standard   \n5  female        group B          associate's degree      standard   \n6  female        group B                some college      standard   \n7    male        group B                some college  free/reduced   \n8    male        group D                 high school  free/reduced   \n9  female        group B                 high school  free/reduced   \n\n  test preparation course   group  math score  reading score  writing score  \n0                    none  group1          72             72             74  \n1               completed  group1          69             90             88  \n2                    none  group1          90             95             93  \n3                    none  group1          47             57             44  \n4                    none  group1          76             78             75  \n5                    none  group1          71             83             78  \n6               completed  group1          88             95             92  \n7                    none  group1          40             43             39  \n8               completed  group1          64             64             67  \n9                    none  group1          38             60             50  ",
      "text/html": "<div>\n<style scoped>\n    .dataframe tbody tr th:only-of-type {\n        vertical-align: middle;\n    }\n\n    .dataframe tbody tr th {\n        vertical-align: top;\n    }\n\n    .dataframe thead th {\n        text-align: right;\n    }\n</style>\n<table border=\"1\" class=\"dataframe\">\n  <thead>\n    <tr style=\"text-align: right;\">\n      <th></th>\n      <th>gender</th>\n      <th>race/ethnicity</th>\n      <th>parental level of education</th>\n      <th>lunch</th>\n      <th>test preparation course</th>\n      <th>group</th>\n      <th>math score</th>\n      <th>reading score</th>\n      <th>writing score</th>\n    </tr>\n  </thead>\n  <tbody>\n    <tr>\n      <th>0</th>\n      <td>female</td>\n      <td>group B</td>\n      <td>bachelor's degree</td>\n      <td>standard</td>\n      <td>none</td>\n      <td>group1</td>\n      <td>72</td>\n      <td>72</td>\n      <td>74</td>\n    </tr>\n    <tr>\n      <th>1</th>\n      <td>female</td>\n      <td>group C</td>\n      <td>some college</td>\n      <td>standard</td>\n      <td>completed</td>\n      <td>group1</td>\n      <td>69</td>\n      <td>90</td>\n      <td>88</td>\n    </tr>\n    <tr>\n      <th>2</th>\n      <td>female</td>\n      <td>group B</td>\n      <td>master's degree</td>\n      <td>standard</td>\n      <td>none</td>\n      <td>group1</td>\n      <td>90</td>\n      <td>95</td>\n      <td>93</td>\n    </tr>\n    <tr>\n      <th>3</th>\n      <td>male</td>\n      <td>group A</td>\n      <td>associate's degree</td>\n      <td>free/reduced</td>\n      <td>none</td>\n      <td>group1</td>\n      <td>47</td>\n      <td>57</td>\n      <td>44</td>\n    </tr>\n    <tr>\n      <th>4</th>\n      <td>male</td>\n      <td>group C</td>\n      <td>some college</td>\n      <td>standard</td>\n      <td>none</td>\n      <td>group1</td>\n      <td>76</td>\n      <td>78</td>\n      <td>75</td>\n    </tr>\n    <tr>\n      <th>5</th>\n      <td>female</td>\n      <td>group B</td>\n      <td>associate's degree</td>\n      <td>standard</td>\n      <td>none</td>\n      <td>group1</td>\n      <td>71</td>\n      <td>83</td>\n      <td>78</td>\n    </tr>\n    <tr>\n      <th>6</th>\n      <td>female</td>\n      <td>group B</td>\n      <td>some college</td>\n      <td>standard</td>\n      <td>completed</td>\n      <td>group1</td>\n      <td>88</td>\n      <td>95</td>\n      <td>92</td>\n    </tr>\n    <tr>\n      <th>7</th>\n      <td>male</td>\n      <td>group B</td>\n      <td>some college</td>\n      <td>free/reduced</td>\n      <td>none</td>\n      <td>group1</td>\n      <td>40</td>\n      <td>43</td>\n      <td>39</td>\n    </tr>\n    <tr>\n      <th>8</th>\n      <td>male</td>\n      <td>group D</td>\n      <td>high school</td>\n      <td>free/reduced</td>\n      <td>completed</td>\n      <td>group1</td>\n      <td>64</td>\n      <td>64</td>\n      <td>67</td>\n    </tr>\n    <tr>\n      <th>9</th>\n      <td>female</td>\n      <td>group B</td>\n      <td>high school</td>\n      <td>free/reduced</td>\n      <td>none</td>\n      <td>group1</td>\n      <td>38</td>\n      <td>60</td>\n      <td>50</td>\n    </tr>\n  </tbody>\n</table>\n</div>"
     },
     "execution_count": 8,
     "metadata": {},
     "output_type": "execute_result"
    }
   ],
   "source": [
    "df = df.drop(\"index\", axis=1)\n",
    "df.head(10)"
   ]
  },
  {
   "cell_type": "markdown",
   "metadata": {
    "_uuid": "5fcd622942b7ecfc318934c6a245d3bb3bf01e84"
   },
   "source": [
    "#### Задание 3. Выведите на экран размеры полученной таблицы"
   ]
  },
  {
   "cell_type": "code",
   "execution_count": 9,
   "metadata": {
    "_uuid": "16281cd7b4e941ebed8ca2e1b42f62f55d838684"
   },
   "outputs": [
    {
     "name": "stdout",
     "output_type": "stream",
     "text": [
      "1000 rows x 9 columns\n"
     ]
    }
   ],
   "source": [
    "print(f\"{len(df)} rows x {len(df.columns)} columns\")"
   ]
  },
  {
   "cell_type": "markdown",
   "metadata": {
    "_uuid": "fe8e3d58d29ca25dbbcf001392377643e6ff9a36"
   },
   "source": [
    "#### Задание 4. Выведите на экран статистические характеристики числовых столбцов таблицы (минимум, максимум, среднее значение, стандартное отклонение)"
   ]
  },
  {
   "cell_type": "code",
   "execution_count": 10,
   "metadata": {
    "_uuid": "e3d4bb80d2c4251fe517c24fcf08c5ff2d67b8aa"
   },
   "outputs": [
    {
     "data": {
      "text/plain": "      math score  reading score  writing score\nmin      0.00000      17.000000      10.000000\nmax    100.00000     100.000000     100.000000\nmean    66.08900      69.169000      68.054000\nstd     15.16308      14.600192      15.195657",
      "text/html": "<div>\n<style scoped>\n    .dataframe tbody tr th:only-of-type {\n        vertical-align: middle;\n    }\n\n    .dataframe tbody tr th {\n        vertical-align: top;\n    }\n\n    .dataframe thead th {\n        text-align: right;\n    }\n</style>\n<table border=\"1\" class=\"dataframe\">\n  <thead>\n    <tr style=\"text-align: right;\">\n      <th></th>\n      <th>math score</th>\n      <th>reading score</th>\n      <th>writing score</th>\n    </tr>\n  </thead>\n  <tbody>\n    <tr>\n      <th>min</th>\n      <td>0.00000</td>\n      <td>17.000000</td>\n      <td>10.000000</td>\n    </tr>\n    <tr>\n      <th>max</th>\n      <td>100.00000</td>\n      <td>100.000000</td>\n      <td>100.000000</td>\n    </tr>\n    <tr>\n      <th>mean</th>\n      <td>66.08900</td>\n      <td>69.169000</td>\n      <td>68.054000</td>\n    </tr>\n    <tr>\n      <th>std</th>\n      <td>15.16308</td>\n      <td>14.600192</td>\n      <td>15.195657</td>\n    </tr>\n  </tbody>\n</table>\n</div>"
     },
     "execution_count": 10,
     "metadata": {},
     "output_type": "execute_result"
    }
   ],
   "source": [
    "df.describe(include=['int', 'float']).loc[['min', 'max', 'mean', 'std']]"
   ]
  },
  {
   "cell_type": "markdown",
   "metadata": {
    "_uuid": "b26b7de83485ecb3b8a0a7865a596e24527c7b2f"
   },
   "source": [
    "#### Задание 5. Проверьте, есть ли в таблице пропущенные значения"
   ]
  },
  {
   "cell_type": "code",
   "execution_count": 11,
   "metadata": {
    "_uuid": "4eac3f8f83d07c6e58ad1576fe0e773f37034a2f"
   },
   "outputs": [
    {
     "data": {
      "text/plain": "False"
     },
     "execution_count": 11,
     "metadata": {},
     "output_type": "execute_result"
    }
   ],
   "source": [
    "df.isnull().values.any()"
   ]
  },
  {
   "cell_type": "markdown",
   "metadata": {},
   "source": [
    "#### Задание 6. Выведите на экран средние баллы студентов по каждому предмету (math, reading, writing)"
   ]
  },
  {
   "cell_type": "code",
   "execution_count": 12,
   "metadata": {},
   "outputs": [
    {
     "name": "stdout",
     "output_type": "stream",
     "text": [
      "Math mean score: 66.089\n",
      "Reading mean score: 69.169\n",
      "Writing mean score: 68.054\n"
     ]
    }
   ],
   "source": [
    "m = {\n",
    "    \"Math\": \"math score\",\n",
    "    \"Reading\": \"reading score\",\n",
    "    \"Writing\": \"writing score\"\n",
    "}\n",
    "\n",
    "results: list[str] = list(map(lambda pair: f\"{pair[0]} mean score: {df[pair[1]].mean()}\", m.items()))\n",
    "print(\"\\n\".join(results))"
   ]
  },
  {
   "cell_type": "markdown",
   "metadata": {},
   "source": [
    "**Задание 7. Как зависят оценки от того, проходил ли студент курс для подготовки к сдаче экзамена (test preparation course)? Выведите на экран для каждого предмета в отдельности средний балл студентов, проходивших курс для подготовки к экзамену и не проходивших курс.**"
   ]
  },
  {
   "cell_type": "code",
   "execution_count": 13,
   "metadata": {},
   "outputs": [
    {
     "name": "stdout",
     "output_type": "stream",
     "text": [
      "Math: prepared mean score = 69.69553072625699, non prepared mean score = 64.0778816199377\n",
      "Reading: prepared mean score = 73.89385474860335, non prepared mean score = 66.53426791277259\n",
      "Writing: prepared mean score = 74.41899441340782, non prepared mean score = 64.50467289719626\n"
     ]
    }
   ],
   "source": [
    "df_prepared = df.query(\"`test preparation course` == 'completed'\")\n",
    "df_non_prepared = df.query(\"`test preparation course` == 'none'\")\n",
    "\n",
    "results: list[str] = \\\n",
    "    list(map(lambda pair: f\"{pair[0]}: prepared mean score = {df_prepared[pair[1]].mean()}, non prepared mean score = {df_non_prepared[pair[1]].mean()}\", m.items()))\n",
    "print(\"\\n\".join(results))"
   ]
  },
  {
   "cell_type": "markdown",
   "metadata": {},
   "source": [
    "**Задание 8. Выведите на экран все различные значения из столбца lunch.**"
   ]
  },
  {
   "cell_type": "code",
   "execution_count": 14,
   "metadata": {},
   "outputs": [
    {
     "name": "stdout",
     "output_type": "stream",
     "text": [
      "standard, free/reduced\n"
     ]
    }
   ],
   "source": [
    "print(\", \".join(df['lunch'].unique()))"
   ]
  },
  {
   "cell_type": "markdown",
   "metadata": {},
   "source": [
    "**Задание 9. Переименуйте колонку \"parental level of education\" в \"education\", а \"test preparation course\" в \"test preparation\" с помощью метода pandas rename**\n",
    "https://pandas.pydata.org/pandas-docs/stable/reference/api/pandas.DataFrame.rename.html"
   ]
  },
  {
   "cell_type": "code",
   "execution_count": 15,
   "metadata": {},
   "outputs": [],
   "source": [
    "df.rename(columns={\n",
    "    'parental level of education': 'education',\n",
    "    'test preparation course': 'test preparation'\n",
    "}, inplace=True)"
   ]
  },
  {
   "cell_type": "markdown",
   "metadata": {},
   "source": [
    "**Зафиксируем минимальный балл для сдачи экзамена**"
   ]
  },
  {
   "cell_type": "code",
   "execution_count": 16,
   "metadata": {},
   "outputs": [],
   "source": [
    "passmark = 50"
   ]
  },
  {
   "cell_type": "markdown",
   "metadata": {},
   "source": [
    "**Задание 10. Ответьте на вопросы:**\n",
    "    * Какая доля студентов сдала экзамен по математике (passmark >= 50)?\n",
    "    * Какая доля студентов, проходивших курс подготовки к экзамену, сдала экзамен по математике?\n",
    "    * Какая доля женщин, не проходивших курс подготовки к экзамену, не сдала экзамен по математике? "
   ]
  },
  {
   "cell_type": "code",
   "execution_count": 17,
   "metadata": {},
   "outputs": [
    {
     "name": "stdout",
     "output_type": "stream",
     "text": [
      "1ый вариант моего понимания условия\n",
      "Passed exam: 0.865 - 86.5% - 865 out of 1000\n",
      "Prepared and passed exam: 0.9217877094972067 - 92.17877094972067% - 330 out of 358\n",
      "Women that didn't prepare and didn't pass exam: 0.20958083832335328 - 20.958083832335326% - 70 out of 334\n",
      "2ой вариант моего понимания условия\n",
      "Passed exam: 0.865 - 86.5% - 865 out of 1000\n",
      "Prepared and passed exam: 0.33 - 33.0% - 330 out of 1000\n",
      "Women that didn't prepare and didn't pass exam: 0.07 - 7.000000000000001% - 70 out of 1000\n"
     ]
    }
   ],
   "source": [
    "# Не особо понятно условие для пунктов 2 и 3\n",
    "student_count = len(df.index)\n",
    "passed_exam_count = len(df.query(\"`math score` >= @passmark\").index)\n",
    "prepared_student_count = len(df.query(\"`test preparation` == 'completed'\"))\n",
    "prepared_and_passed_exam_count = len(df.query(\"`math score` >= @passmark and `test preparation` == 'completed'\").index)\n",
    "women_didnt_prepare_count = len(df.query(\"`test preparation` == 'none' and `gender` == 'female'\").index)\n",
    "women_did_not_prepare_and_did_not_pass_count = len(df.query(\"`math score` < @passmark and `test preparation` == 'none' and `gender` == 'female'\").index)\n",
    "\n",
    "print(\"1ый вариант моего понимания условия\")\n",
    "print(f\"Passed exam: {(passed_exam_count / student_count)} - {100 * (passed_exam_count / student_count)}% - {passed_exam_count} out of {student_count}\")\n",
    "print(f\"Prepared and passed exam: {prepared_and_passed_exam_count / prepared_student_count} - {100 * (prepared_and_passed_exam_count / prepared_student_count)}% - {prepared_and_passed_exam_count} out of {prepared_student_count}\")\n",
    "print(f\"Women that didn't prepare and didn't pass exam: {women_did_not_prepare_and_did_not_pass_count / women_didnt_prepare_count} - {100 * (women_did_not_prepare_and_did_not_pass_count / women_didnt_prepare_count)}% - {women_did_not_prepare_and_did_not_pass_count} out of {women_didnt_prepare_count}\")\n",
    "\n",
    "print(\"2ой вариант моего понимания условия\")\n",
    "print(f\"Passed exam: {(passed_exam_count / student_count)} - {100 * (passed_exam_count / student_count)}% - {passed_exam_count} out of {student_count}\")\n",
    "print(f\"Prepared and passed exam: {prepared_and_passed_exam_count / student_count} - {100 * (prepared_and_passed_exam_count / student_count)}% - {prepared_and_passed_exam_count} out of {student_count}\")\n",
    "print(f\"Women that didn't prepare and didn't pass exam: {women_did_not_prepare_and_did_not_pass_count / student_count} - {100 * (women_did_not_prepare_and_did_not_pass_count / student_count)}% - {women_did_not_prepare_and_did_not_pass_count} out of {student_count}\")"
   ]
  },
  {
   "cell_type": "markdown",
   "metadata": {},
   "source": [
    "**Задание 11. С помощью groupby выполните задания ниже. Также выведите время выполнения каждого из заданий.**\n",
    "    * Для каждой этнической группы выведите средний балл за экзамен по чтению\n",
    "    * Для каждого уровня образования выведите минимальный балл за экзамен по письму"
   ]
  },
  {
   "cell_type": "code",
   "execution_count": 18,
   "metadata": {},
   "outputs": [
    {
     "name": "stdout",
     "output_type": "stream",
     "text": [
      "Ethnicity group: group A; mean reading score = 64.67415730337079\n",
      "Ethnicity group: group B; mean reading score = 67.35263157894737\n",
      "Ethnicity group: group C; mean reading score = 69.10344827586206\n",
      "Ethnicity group: group D; mean reading score = 70.03053435114504\n",
      "Ethnicity group: group E; mean reading score = 73.02857142857142\n",
      "Education level: associate's degree; min writing score = 35\n",
      "Education level: bachelor's degree; min writing score = 38\n",
      "Education level: high school; min writing score = 15\n",
      "Education level: master's degree; min writing score = 46\n",
      "Education level: some college; min writing score = 19\n",
      "Education level: some high school; min writing score = 10\n",
      "CPU times: user 2.24 ms, sys: 4.17 ms, total: 6.41 ms\n",
      "Wall time: 6.2 ms\n"
     ]
    }
   ],
   "source": [
    "%%time\n",
    "ethnic_groups_and_their_reading_scores = df.groupby(\"race/ethnicity\")[\"reading score\"]\n",
    "results_for_eth: list[str] = list(map(lambda pair: f\"Ethnicity group: {pair[0]}; mean reading score = {sum(pair[1]) / len(pair[1])}\", ethnic_groups_and_their_reading_scores))\n",
    "print(\"\\n\".join(results_for_eth))\n",
    "\n",
    "education_and_writing_scores = df.groupby(\"education\")[\"writing score\"]\n",
    "results_for_edu: list[str] = list(map(lambda pair: f\"Education level: {pair[0]}; min writing score = {min(pair[1])}\", education_and_writing_scores))\n",
    "print(\"\\n\".join(results_for_edu))"
   ]
  },
  {
   "cell_type": "markdown",
   "metadata": {},
   "source": [
    "**Задание 12. Выполните задание 11 с помощью циклов. Сравните время выполнения.**"
   ]
  },
  {
   "cell_type": "code",
   "execution_count": 19,
   "metadata": {},
   "outputs": [
    {
     "name": "stdout",
     "output_type": "stream",
     "text": [
      "Ethnicity group: group A; mean reading score = 64.67415730337079\n",
      "Ethnicity group: group B; mean reading score = 67.35263157894737\n",
      "Ethnicity group: group C; mean reading score = 69.10344827586206\n",
      "Ethnicity group: group D; mean reading score = 70.03053435114504\n",
      "Ethnicity group: group E; mean reading score = 73.02857142857142\n",
      "Education level: associate's degree; min writing score = 35\n",
      "Education level: bachelor's degree; min writing score = 38\n",
      "Education level: high school; min writing score = 15\n",
      "Education level: master's degree; min writing score = 46\n",
      "Education level: some college; min writing score = 19\n",
      "Education level: some high school; min writing score = 10\n",
      "CPU times: user 2.29 ms, sys: 989 µs, total: 3.27 ms\n",
      "Wall time: 3.05 ms\n"
     ]
    }
   ],
   "source": [
    "%%time\n",
    "group1: dict[str, list[int]] = {}\n",
    "group2: dict[str, list[int]] = {}\n",
    "rows = df.values.tolist()\n",
    "for row in rows:\n",
    "    ethnicity = row[1]\n",
    "    education = row[2]\n",
    "    reading_score = row[-2]\n",
    "    writing_score = row[-1]\n",
    "    if not ethnicity in group1.keys():\n",
    "        group1[ethnicity] = [reading_score]\n",
    "    else:\n",
    "        group1[ethnicity] += [reading_score]\n",
    "\n",
    "    if not education in group2.keys():\n",
    "        group2[education] = [writing_score]\n",
    "    else:\n",
    "        group2[education] += [writing_score]\n",
    "\n",
    "for ethnicity, score_list in sorted(group1.items()):\n",
    "    print(f\"Ethnicity group: {ethnicity}; mean reading score = {sum(score_list) / len(score_list)}\")\n",
    "\n",
    "for education, score_list in sorted(group2.items()):\n",
    "    print(f\"Education level: {education}; min writing score = {min(score_list)}\")"
   ]
  },
  {
   "cell_type": "markdown",
   "metadata": {},
   "source": [
    "**Задание 13. Выведите на экран средние баллы студентов по каждому предмету в зависимости от пола и уровня образования. То есть должно получиться количество групп, равных 2 * (число уровней образования), и для каждой такой группы выыведите средний балл по каждому из предметов.**\n",
    "\n",
    "Это можно сделать с помощью сводных таблиц (pivot_table):\n",
    "\n",
    "https://www.kaggle.com/kamilpolak/tutorial-how-to-use-pivot-table-in-pandas"
   ]
  },
  {
   "cell_type": "code",
   "execution_count": 20,
   "metadata": {},
   "outputs": [
    {
     "data": {
      "text/plain": "                           math score  reading score  writing score\ngender education                                                   \nfemale associate's degree   65.250000      74.120690      74.000000\n       bachelor's degree    68.349206      77.285714      78.380952\n       high school          59.351064      68.202128      66.691489\n       master's degree      66.500000      76.805556      77.638889\n       some college         65.406780      73.550847      74.050847\n       some high school     59.296703      69.109890      68.285714\nmale   associate's degree   70.764151      67.433962      65.405660\n       bachelor's degree    70.581818      68.090909      67.654545\n       high school          64.705882      61.480392      58.539216\n       master's degree      74.826087      73.130435      72.608696\n       some college         69.009259      64.990741      63.148148\n       some high school     67.840909      64.693182      61.375000",
      "text/html": "<div>\n<style scoped>\n    .dataframe tbody tr th:only-of-type {\n        vertical-align: middle;\n    }\n\n    .dataframe tbody tr th {\n        vertical-align: top;\n    }\n\n    .dataframe thead th {\n        text-align: right;\n    }\n</style>\n<table border=\"1\" class=\"dataframe\">\n  <thead>\n    <tr style=\"text-align: right;\">\n      <th></th>\n      <th></th>\n      <th>math score</th>\n      <th>reading score</th>\n      <th>writing score</th>\n    </tr>\n    <tr>\n      <th>gender</th>\n      <th>education</th>\n      <th></th>\n      <th></th>\n      <th></th>\n    </tr>\n  </thead>\n  <tbody>\n    <tr>\n      <th rowspan=\"6\" valign=\"top\">female</th>\n      <th>associate's degree</th>\n      <td>65.250000</td>\n      <td>74.120690</td>\n      <td>74.000000</td>\n    </tr>\n    <tr>\n      <th>bachelor's degree</th>\n      <td>68.349206</td>\n      <td>77.285714</td>\n      <td>78.380952</td>\n    </tr>\n    <tr>\n      <th>high school</th>\n      <td>59.351064</td>\n      <td>68.202128</td>\n      <td>66.691489</td>\n    </tr>\n    <tr>\n      <th>master's degree</th>\n      <td>66.500000</td>\n      <td>76.805556</td>\n      <td>77.638889</td>\n    </tr>\n    <tr>\n      <th>some college</th>\n      <td>65.406780</td>\n      <td>73.550847</td>\n      <td>74.050847</td>\n    </tr>\n    <tr>\n      <th>some high school</th>\n      <td>59.296703</td>\n      <td>69.109890</td>\n      <td>68.285714</td>\n    </tr>\n    <tr>\n      <th rowspan=\"6\" valign=\"top\">male</th>\n      <th>associate's degree</th>\n      <td>70.764151</td>\n      <td>67.433962</td>\n      <td>65.405660</td>\n    </tr>\n    <tr>\n      <th>bachelor's degree</th>\n      <td>70.581818</td>\n      <td>68.090909</td>\n      <td>67.654545</td>\n    </tr>\n    <tr>\n      <th>high school</th>\n      <td>64.705882</td>\n      <td>61.480392</td>\n      <td>58.539216</td>\n    </tr>\n    <tr>\n      <th>master's degree</th>\n      <td>74.826087</td>\n      <td>73.130435</td>\n      <td>72.608696</td>\n    </tr>\n    <tr>\n      <th>some college</th>\n      <td>69.009259</td>\n      <td>64.990741</td>\n      <td>63.148148</td>\n    </tr>\n    <tr>\n      <th>some high school</th>\n      <td>67.840909</td>\n      <td>64.693182</td>\n      <td>61.375000</td>\n    </tr>\n  </tbody>\n</table>\n</div>"
     },
     "execution_count": 20,
     "metadata": {},
     "output_type": "execute_result"
    }
   ],
   "source": [
    "df_for_pivot = df.drop([\"race/ethnicity\", \"test preparation\", \"group\", \"lunch\"], axis=1)\n",
    "grouped = pd.pivot_table(data=df_for_pivot,index=[\"gender\", \"education\"])\n",
    "grouped"
   ]
  },
  {
   "cell_type": "markdown",
   "metadata": {
    "_uuid": "3e832cb427c4314582d1953a41b8c78db75e30e3"
   },
   "source": [
    "#### Задание 14. Сколько студентов успешно сдали экзамен по математике?\n",
    "\n",
    "Создайте новый столбец в таблице df под названием Math_PassStatus и запишите в него F, если студент не сдал экзамен по математике (балл за экзамен < passmark), и P иначе.\n",
    "\n",
    "Посчитайте количество студентов, сдавших и не сдавших экзамен по математике.\n",
    "\n",
    "Сделайте аналогичные шаги для экзаменов по чтению и письму."
   ]
  },
  {
   "cell_type": "code",
   "execution_count": 21,
   "metadata": {
    "_uuid": "f43cddb72cc96b30df84bc0de83a4d9170904340"
   },
   "outputs": [
    {
     "name": "stdout",
     "output_type": "stream",
     "text": [
      "Passed Math - 865; Did not pass Math - 135\n",
      "Passed Reading - 910; Did not pass Reading - 90\n",
      "Passed Writing - 886; Did not pass Writing - 114\n"
     ]
    }
   ],
   "source": [
    "# Наверное циклы нельзя, но красиво, компактно и читаемо сделать через функциональщину тоже самое не выйдет\n",
    "for subject_name, column_name in m.items():\n",
    "    df[f\"{subject_name}_PassStatus\"] = df.apply(lambda current_row: current_row[column_name] >= passmark and \"P\" or \"F\", axis=1)\n",
    "\n",
    "for subject_name, _ in m.items():\n",
    "    passed_subject_count = len(df.query(f\"`{subject_name}_PassStatus` == 'P'\").index)\n",
    "    not_passed_subject_count = len(df.query(f\"`{subject_name}_PassStatus` == 'F'\").index)\n",
    "    print(f\"Passed {subject_name} - {passed_subject_count}; Did not pass {subject_name} - {not_passed_subject_count}\")"
   ]
  },
  {
   "cell_type": "markdown",
   "metadata": {
    "_uuid": "b753c90914ee65501e2ed263ea614d88a381c472"
   },
   "source": [
    "#### Задание 15. Сколько студентов успешно сдали все экзамены?\n",
    "\n",
    "Создайте столбец OverAll_PassStatus и запишите в него для каждого студента 'F', если студент не сдал хотя бы один из трех экзаменов, а иначе 'P'.\n",
    "\n",
    "Посчитайте количество студентов, которые сдали все экзамены."
   ]
  },
  {
   "cell_type": "code",
   "execution_count": 22,
   "metadata": {
    "_uuid": "e98f895a022b967cab801447b616222439fe9d84"
   },
   "outputs": [
    {
     "name": "stdout",
     "output_type": "stream",
     "text": [
      "Passed all exams - 812\n"
     ]
    }
   ],
   "source": [
    "df[\"OverAll_PassStatus\"] = df.apply(lambda current_row: \\\n",
    "    (current_row[\"Math_PassStatus\"] == \"P\" and current_row[\"Reading_PassStatus\"] == \"P\" and current_row[\"Writing_PassStatus\"] == \"P\") \\\n",
    "                                    and \"P\" or \"F\", axis=1)\n",
    "passed_all_exams_count = len(df.query(f\"`OverAll_PassStatus` == 'P'\").index)\n",
    "print(f\"Passed all exams - {passed_all_exams_count}\")"
   ]
  },
  {
   "cell_type": "markdown",
   "metadata": {
    "_uuid": "3af9c6cb4cbfff66d4ae09509f10b8b6ce33075d"
   },
   "source": [
    "#### Задание 16. Переведем баллы в оценки\n",
    "\n",
    "### Система перевода баллов в оценки\n",
    "####    больше 90 = A\n",
    "####      80-90 = B\n",
    "####      70-80 = C\n",
    "####      60-70 = D\n",
    "####      50-60 = E\n",
    "####    меньше 50 = F (Fail)\n",
    "\n",
    "Создайте вспомогательную функцию, которая будет по среднему баллу за три экзамена выставлять оценку студенту по данным выше критериям.\n",
    "\n",
    "Создайте столбец Grade и запишите в него оценку каждого студента.\n",
    "\n",
    "Выведите количество студентов, получивших каждую из оценок.\n",
    "\n",
    "**В случае, если средний балл попадает на границу между оценками (т.е. равен ровно 60, 70 или 80 баллов), вы можете интерпретировать условие на своё усмотрение (т.е. можете поставить за 60 баллов оценку D, а можете - E).**"
   ]
  },
  {
   "cell_type": "code",
   "execution_count": 23,
   "metadata": {
    "_uuid": "04707c5be4237020b906d2ac705a0db3d620506f"
   },
   "outputs": [
    {
     "name": "stdout",
     "output_type": "stream",
     "text": [
      "Grade = A, student count = 50\n",
      "Grade = B, student count = 148\n",
      "Grade = C, student count = 261\n",
      "Grade = D, student count = 256\n",
      "Grade = E, student count = 182\n",
      "Grade = F, student count = 103\n"
     ]
    }
   ],
   "source": [
    "def GetGrade(average_mark):\n",
    "    if average_mark > 90:\n",
    "        return \"A\"\n",
    "\n",
    "    if 80 <= average_mark <= 90:\n",
    "        return \"B\"\n",
    "\n",
    "    if 70 <= average_mark < 80:\n",
    "        return \"C\"\n",
    "\n",
    "    if 60 <= average_mark < 70:\n",
    "        return \"D\"\n",
    "\n",
    "    if 50 <= average_mark < 60:\n",
    "        return \"E\"\n",
    "\n",
    "    return \"F\"\n",
    "\n",
    "\n",
    "def GetAverageGradeFromRow(row_from_table):\n",
    "    math_score_from_row = row_from_table[\"math score\"]\n",
    "    reading_score_from_row = row_from_table[\"reading score\"]\n",
    "    writing_score_from_row = row_from_table[\"writing score\"]\n",
    "    return (math_score_from_row + reading_score_from_row + writing_score_from_row) / 3\n",
    "\n",
    "df[\"Grade\"] = df.apply(lambda current_row: GetGrade(GetAverageGradeFromRow(current_row)), axis=1)\n",
    "student_count_for_each_grade = df.groupby(\"Grade\")\n",
    "results: list[str] = list(map(lambda pair: f\"Grade = {pair[0]}, student count = {len(pair[1])}\", student_count_for_each_grade))\n",
    "print(\"\\n\".join(results))"
   ]
  }
 ],
 "metadata": {
  "kernelspec": {
   "display_name": "Python 3 (ipykernel)",
   "language": "python",
   "name": "python3"
  },
  "language_info": {
   "codemirror_mode": {
    "name": "ipython",
    "version": 3
   },
   "file_extension": ".py",
   "mimetype": "text/x-python",
   "name": "python",
   "nbconvert_exporter": "python",
   "pygments_lexer": "ipython3",
   "version": "3.7.9"
  }
 },
 "nbformat": 4,
 "nbformat_minor": 1
}
